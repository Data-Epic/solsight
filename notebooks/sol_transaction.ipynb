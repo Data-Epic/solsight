{
 "cells": [
  {
   "cell_type": "code",
   "execution_count": 1,
   "metadata": {},
   "outputs": [],
   "source": [
    "import asyncio\n",
    "import solana\n",
    "import json\n",
    "from solana.rpc.async_api import AsyncClient\n",
    "from solana.exceptions import SolanaRpcException\n",
    "import nest_asyncio"
   ]
  },
  {
   "cell_type": "code",
   "execution_count": 2,
   "metadata": {},
   "outputs": [],
   "source": [
    "nest_asyncio.apply() # This is needed to run the async loop in Jupyter"
   ]
  },
  {
   "cell_type": "code",
   "execution_count": 3,
   "metadata": {},
   "outputs": [],
   "source": [
    "mainnet_url = \"https://api.mainnet-beta.solana.com\""
   ]
  },
  {
   "cell_type": "code",
   "execution_count": 64,
   "metadata": {},
   "outputs": [],
   "source": [
    "def check_transaction_program(transaction) -> bool:\n",
    "    \"\"\"\n",
    "    Verify that the first and last transaction programs are spl-token\n",
    "    \"\"\"\n",
    "    try:\n",
    "        if \"program\" in transaction[\"result\"][\"meta\"][\"innerInstructions\"][0][\"instructions\"][0].keys():\n",
    "            first_transaction_program = transaction[\"result\"][\"meta\"][\"innerInstructions\"][0][\"instructions\"][0][\"program\"]\n",
    "            last_transaction_program = transaction[\"result\"][\"meta\"][\"innerInstructions\"][0][\"instructions\"][-1][\"program\"]\n",
    "        elif \"program\" in transaction[\"result\"][\"meta\"][\"innerInstructions\"][0][\"instructions\"][1].keys():\n",
    "            first_transaction_program = transaction[\"result\"][\"meta\"][\"innerInstructions\"][0][\"instructions\"][1][\"program\"]\n",
    "            last_transaction_program = transaction[\"result\"][\"meta\"][\"innerInstructions\"][0][\"instructions\"][-1][\"program\"]\n",
    "    except:\n",
    "        first_transaction_program = None\n",
    "        last_transaction_program = None\n",
    "    \n",
    "    if first_transaction_program != \"spl-token\":\n",
    "        return False\n",
    "    \n",
    "    if last_transaction_program != \"spl-token\":\n",
    "        return False\n",
    "    \n",
    "    return True\n",
    "\n",
    "def check_transaction_type(transaction) -> bool:\n",
    "    \"\"\"\n",
    "    Verify that the first and last transaction types are transfer\n",
    "\n",
    "    \"\"\"\n",
    "    try:\n",
    "        if \"program\" in transaction[\"result\"][\"meta\"][\"innerInstructions\"][0][\"instructions\"][0].keys():\n",
    "            first_transaction_type = transaction[\"result\"][\"meta\"][\"innerInstructions\"][0][\"instructions\"][0][\"parsed\"][\"type\"]\n",
    "            second_transaction_type = transaction[\"result\"][\"meta\"][\"innerInstructions\"][0][\"instructions\"][-1][\"parsed\"][\"type\"]\n",
    "        elif \"program\" in transaction[\"result\"][\"meta\"][\"innerInstructions\"][0][\"instructions\"][1].keys():\n",
    "            first_transaction_type = transaction[\"result\"][\"meta\"][\"innerInstructions\"][0][\"instructions\"][1][\"parsed\"][\"type\"]\n",
    "            second_transaction_type = transaction[\"result\"][\"meta\"][\"innerInstructions\"][0][\"instructions\"][-1][\"parsed\"][\"type\"]\n",
    "    except:\n",
    "        first_transaction_type = None\n",
    "        second_transaction_type = None\n",
    "\n",
    "    if first_transaction_type != \"transfer\":\n",
    "        return False\n",
    "    \n",
    "    if second_transaction_type != \"transfer\":\n",
    "        return False\n",
    "   \n",
    "    return True\n",
    "\n",
    "def check_token_address(transaction) -> bool:\n",
    "    \"\"\"\n",
    "    Verify that the token address source is USDC and the token address destination is wrapped solana\n",
    "    \n",
    "    \"\"\"\n",
    "    usdc_token_address = \"EPjFWdd5AufqSSqeM2qN1xzybapC8G4wEGGkZwyTDt1v\"\n",
    "    wrapped_solana = \"So11111111111111111111111111111111111111112\"\n",
    "    \n",
    "    try:\n",
    "        token_address_source = transaction[\"result\"][\"meta\"][\"preTokenBalances\"][0][\"mint\"]\n",
    "        token_address_destination = transaction[\"result\"][\"meta\"][\"preTokenBalances\"][-1][\"mint\"]\n",
    "    except:\n",
    "        token_address_source = None\n",
    "        token_address_destination = None\n",
    "    \n",
    "    if token_address_source != usdc_token_address:\n",
    "        return False\n",
    "    \n",
    "    if token_address_destination != wrapped_solana:\n",
    "        return False\n",
    "    \n",
    "    return True\n",
    "\n",
    "def check_error_status(transaction) -> bool:\n",
    "    \"\"\"\n",
    "    Verify that the error and status are None\n",
    "    \n",
    "    \"\"\"\n",
    "\n",
    "    try:\n",
    "        error = transaction[\"result\"][\"meta\"][\"status\"][\"Ok\"]\n",
    "        status = transaction[\"result\"][\"meta\"][\"err\"]\n",
    "    except:\n",
    "        error = None\n",
    "        status = None\n",
    "   \n",
    "    \n",
    "    if error is not None:\n",
    "        return False\n",
    "    \n",
    "    if status is not None:\n",
    "        return False\n",
    "   \n",
    "    return True"
   ]
  },
  {
   "cell_type": "code",
   "execution_count": 65,
   "metadata": {},
   "outputs": [],
   "source": [
    "async def fetch_block(url):\n",
    "    try:\n",
    "        async with AsyncClient(url) as client:\n",
    "            latest_blockhash = await client.get_slot()\n",
    "            slot= json.loads(latest_blockhash.to_json())[\"result\"]\n",
    "        return slot # True\n",
    "    except SolanaRpcException as e:\n",
    "        print(e)\n",
    "        return None\n"
   ]
  },
  {
   "cell_type": "code",
   "execution_count": 66,
   "metadata": {},
   "outputs": [],
   "source": [
    "async def stream_data(url):\n",
    "    while True:\n",
    "        data = await fetch_block(url)\n",
    "        if data is not None:\n",
    "            # print(data)\n",
    "            return data  # Process or handle the data as needed\n",
    "\n",
    "    await asyncio.sleep(1)\n"
   ]
  },
  {
   "cell_type": "code",
   "execution_count": 67,
   "metadata": {},
   "outputs": [],
   "source": [
    "def retrieve_transaction_details(transaction):\n",
    "    if (check_transaction_program(transaction) and check_transaction_type(transaction) and check_token_address(transaction) and check_error_status(transaction)):\n",
    "\n",
    "        inner_instructions = transaction[\"result\"][\"meta\"][\"innerInstructions\"]\n",
    "        try:\n",
    "            first_instruction = inner_instructions[0][\"instructions\"][0][\"parsed\"][\"info\"]\n",
    "        except:\n",
    "            first_instruction = inner_instructions[0][\"instructions\"][1][\"parsed\"][\"info\"]\n",
    "    \n",
    "        last_instruction = inner_instructions[0][\"instructions\"][-1][\"parsed\"][\"info\"]\n",
    "\n",
    "        source_amount = first_instruction[\"amount\"]\n",
    "        destination_amount = last_instruction[\"amount\"]\n",
    "        source_account = first_instruction[\"source\"]\n",
    "        destination_account = last_instruction[\"destination\"]\n",
    "        block_time = transaction[\"result\"][\"blockTime\"]\n",
    "        transaction_fees = transaction[\"result\"][\"meta\"][\"fee\"]\n",
    "\n",
    "        send = {\n",
    "            \"source_amount\": source_amount, \"destination_amount\": destination_amount, \n",
    "            \"source_account\": source_account, \"destination_account\": destination_account, \n",
    "            \"block_time\": block_time, \"transaction_fees\": transaction_fees\n",
    "            }\n",
    "    else:\n",
    "        send = {\n",
    "            \"source_amount\": None, \"destination_amount\": None, \n",
    "            \"source_account\": None, \"destination_account\": None, \n",
    "            \"block_time\": None, \"transaction_fees\": None\n",
    "            }\n",
    "    return send"
   ]
  },
  {
   "cell_type": "code",
   "execution_count": 71,
   "metadata": {},
   "outputs": [],
   "source": [
    "async def retrieve_block_transactions(url):\n",
    "    while True:\n",
    "        try:\n",
    "            async with AsyncClient(url) as client:\n",
    "\n",
    "                block_number = await stream_data(url)\n",
    "                blk_transaction = await client.get_block(block_number, \"jsonParsed\", max_supported_transaction_version=0)\n",
    "                return blk_transaction\n",
    "        except:\n",
    "            # print(e)\n",
    "            # return e\n",
    "            print(\"error\")\n",
    "            "
   ]
  },
  {
   "cell_type": "code",
   "execution_count": 72,
   "metadata": {},
   "outputs": [],
   "source": [
    "async def main():\n",
    "    while True:\n",
    "        transaction = await retrieve_block_transactions(mainnet_url)\n",
    "        data = retrieve_transaction_details(transaction)\n",
    "        print(data)\n",
    "            "
   ]
  },
  {
   "cell_type": "code",
   "execution_count": 73,
   "metadata": {},
   "outputs": [
    {
     "name": "stdout",
     "output_type": "stream",
     "text": [
      "{'source_amount': None, 'destination_amount': None, 'source_account': None, 'destination_account': None, 'block_time': None, 'transaction_fees': None}\n",
      "{'source_amount': None, 'destination_amount': None, 'source_account': None, 'destination_account': None, 'block_time': None, 'transaction_fees': None}\n",
      "{'source_amount': None, 'destination_amount': None, 'source_account': None, 'destination_account': None, 'block_time': None, 'transaction_fees': None}\n",
      "{'source_amount': None, 'destination_amount': None, 'source_account': None, 'destination_account': None, 'block_time': None, 'transaction_fees': None}\n",
      "{'source_amount': None, 'destination_amount': None, 'source_account': None, 'destination_account': None, 'block_time': None, 'transaction_fees': None}\n",
      "{'source_amount': None, 'destination_amount': None, 'source_account': None, 'destination_account': None, 'block_time': None, 'transaction_fees': None}\n",
      "{'source_amount': None, 'destination_amount': None, 'source_account': None, 'destination_account': None, 'block_time': None, 'transaction_fees': None}\n",
      "{'source_amount': None, 'destination_amount': None, 'source_account': None, 'destination_account': None, 'block_time': None, 'transaction_fees': None}\n",
      "{'source_amount': None, 'destination_amount': None, 'source_account': None, 'destination_account': None, 'block_time': None, 'transaction_fees': None}\n",
      "{'source_amount': None, 'destination_amount': None, 'source_account': None, 'destination_account': None, 'block_time': None, 'transaction_fees': None}\n",
      "{'source_amount': None, 'destination_amount': None, 'source_account': None, 'destination_account': None, 'block_time': None, 'transaction_fees': None}\n",
      "{'source_amount': None, 'destination_amount': None, 'source_account': None, 'destination_account': None, 'block_time': None, 'transaction_fees': None}\n",
      "{'source_amount': None, 'destination_amount': None, 'source_account': None, 'destination_account': None, 'block_time': None, 'transaction_fees': None}\n",
      "{'source_amount': None, 'destination_amount': None, 'source_account': None, 'destination_account': None, 'block_time': None, 'transaction_fees': None}\n",
      "{'source_amount': None, 'destination_amount': None, 'source_account': None, 'destination_account': None, 'block_time': None, 'transaction_fees': None}\n",
      "{'source_amount': None, 'destination_amount': None, 'source_account': None, 'destination_account': None, 'block_time': None, 'transaction_fees': None}\n",
      "{'source_amount': None, 'destination_amount': None, 'source_account': None, 'destination_account': None, 'block_time': None, 'transaction_fees': None}\n",
      "{'source_amount': None, 'destination_amount': None, 'source_account': None, 'destination_account': None, 'block_time': None, 'transaction_fees': None}\n",
      "{'source_amount': None, 'destination_amount': None, 'source_account': None, 'destination_account': None, 'block_time': None, 'transaction_fees': None}\n",
      "{'source_amount': None, 'destination_amount': None, 'source_account': None, 'destination_account': None, 'block_time': None, 'transaction_fees': None}\n",
      "{'source_amount': None, 'destination_amount': None, 'source_account': None, 'destination_account': None, 'block_time': None, 'transaction_fees': None}\n",
      "{'source_amount': None, 'destination_amount': None, 'source_account': None, 'destination_account': None, 'block_time': None, 'transaction_fees': None}\n",
      "{'source_amount': None, 'destination_amount': None, 'source_account': None, 'destination_account': None, 'block_time': None, 'transaction_fees': None}\n",
      "{'source_amount': None, 'destination_amount': None, 'source_account': None, 'destination_account': None, 'block_time': None, 'transaction_fees': None}\n",
      "{'source_amount': None, 'destination_amount': None, 'source_account': None, 'destination_account': None, 'block_time': None, 'transaction_fees': None}\n",
      "{'source_amount': None, 'destination_amount': None, 'source_account': None, 'destination_account': None, 'block_time': None, 'transaction_fees': None}\n",
      "{'source_amount': None, 'destination_amount': None, 'source_account': None, 'destination_account': None, 'block_time': None, 'transaction_fees': None}\n",
      "{'source_amount': None, 'destination_amount': None, 'source_account': None, 'destination_account': None, 'block_time': None, 'transaction_fees': None}\n",
      "{'source_amount': None, 'destination_amount': None, 'source_account': None, 'destination_account': None, 'block_time': None, 'transaction_fees': None}\n",
      "{'source_amount': None, 'destination_amount': None, 'source_account': None, 'destination_account': None, 'block_time': None, 'transaction_fees': None}\n",
      "{'source_amount': None, 'destination_amount': None, 'source_account': None, 'destination_account': None, 'block_time': None, 'transaction_fees': None}\n",
      "{'source_amount': None, 'destination_amount': None, 'source_account': None, 'destination_account': None, 'block_time': None, 'transaction_fees': None}\n",
      "{'source_amount': None, 'destination_amount': None, 'source_account': None, 'destination_account': None, 'block_time': None, 'transaction_fees': None}\n",
      "{'source_amount': None, 'destination_amount': None, 'source_account': None, 'destination_account': None, 'block_time': None, 'transaction_fees': None}\n",
      "{'source_amount': None, 'destination_amount': None, 'source_account': None, 'destination_account': None, 'block_time': None, 'transaction_fees': None}\n",
      "{'source_amount': None, 'destination_amount': None, 'source_account': None, 'destination_account': None, 'block_time': None, 'transaction_fees': None}\n",
      "{'source_amount': None, 'destination_amount': None, 'source_account': None, 'destination_account': None, 'block_time': None, 'transaction_fees': None}\n",
      "{'source_amount': None, 'destination_amount': None, 'source_account': None, 'destination_account': None, 'block_time': None, 'transaction_fees': None}\n",
      "{'source_amount': None, 'destination_amount': None, 'source_account': None, 'destination_account': None, 'block_time': None, 'transaction_fees': None}\n",
      "{'source_amount': None, 'destination_amount': None, 'source_account': None, 'destination_account': None, 'block_time': None, 'transaction_fees': None}\n",
      "{'source_amount': None, 'destination_amount': None, 'source_account': None, 'destination_account': None, 'block_time': None, 'transaction_fees': None}\n",
      "{'source_amount': None, 'destination_amount': None, 'source_account': None, 'destination_account': None, 'block_time': None, 'transaction_fees': None}\n",
      "{'source_amount': None, 'destination_amount': None, 'source_account': None, 'destination_account': None, 'block_time': None, 'transaction_fees': None}\n",
      "{'source_amount': None, 'destination_amount': None, 'source_account': None, 'destination_account': None, 'block_time': None, 'transaction_fees': None}\n",
      "{'source_amount': None, 'destination_amount': None, 'source_account': None, 'destination_account': None, 'block_time': None, 'transaction_fees': None}\n",
      "{'source_amount': None, 'destination_amount': None, 'source_account': None, 'destination_account': None, 'block_time': None, 'transaction_fees': None}\n",
      "{'source_amount': None, 'destination_amount': None, 'source_account': None, 'destination_account': None, 'block_time': None, 'transaction_fees': None}\n",
      "{'source_amount': None, 'destination_amount': None, 'source_account': None, 'destination_account': None, 'block_time': None, 'transaction_fees': None}\n",
      "{'source_amount': None, 'destination_amount': None, 'source_account': None, 'destination_account': None, 'block_time': None, 'transaction_fees': None}\n",
      "{'source_amount': None, 'destination_amount': None, 'source_account': None, 'destination_account': None, 'block_time': None, 'transaction_fees': None}\n",
      "error\n",
      "{'source_amount': None, 'destination_amount': None, 'source_account': None, 'destination_account': None, 'block_time': None, 'transaction_fees': None}\n",
      "{'source_amount': None, 'destination_amount': None, 'source_account': None, 'destination_account': None, 'block_time': None, 'transaction_fees': None}\n",
      "{'source_amount': None, 'destination_amount': None, 'source_account': None, 'destination_account': None, 'block_time': None, 'transaction_fees': None}\n",
      "{'source_amount': None, 'destination_amount': None, 'source_account': None, 'destination_account': None, 'block_time': None, 'transaction_fees': None}\n",
      "{'source_amount': None, 'destination_amount': None, 'source_account': None, 'destination_account': None, 'block_time': None, 'transaction_fees': None}\n",
      "{'source_amount': None, 'destination_amount': None, 'source_account': None, 'destination_account': None, 'block_time': None, 'transaction_fees': None}\n"
     ]
    }
   ],
   "source": [
    "asyncio.run(main())"
   ]
  },
  {
   "cell_type": "code",
   "execution_count": 34,
   "metadata": {},
   "outputs": [
    {
     "name": "stdout",
     "output_type": "stream",
     "text": [
      "1\n",
      "1\n",
      "1\n",
      "1\n",
      "1\n",
      "1\n",
      "1\n",
      "1\n",
      "1\n",
      "1\n",
      "1\n",
      "1\n",
      "1\n",
      "1\n",
      "1\n"
     ]
    },
    {
     "ename": "KeyboardInterrupt",
     "evalue": "",
     "output_type": "error",
     "traceback": [
      "\u001b[0;31m---------------------------------------------------------------------------\u001b[0m",
      "\u001b[0;31mKeyboardInterrupt\u001b[0m                         Traceback (most recent call last)",
      "Cell \u001b[0;32mIn[34], line 1\u001b[0m\n\u001b[0;32m----> 1\u001b[0m \u001b[43masyncio\u001b[49m\u001b[38;5;241;43m.\u001b[39;49m\u001b[43mrun\u001b[49m\u001b[43m(\u001b[49m\u001b[43mretrieve_block_transactions\u001b[49m\u001b[43m(\u001b[49m\u001b[43mmainnet_url\u001b[49m\u001b[43m)\u001b[49m\u001b[43m)\u001b[49m\n",
      "File \u001b[0;32m~/miniconda3/envs/solana-py-test/lib/python3.9/site-packages/nest_asyncio.py:30\u001b[0m, in \u001b[0;36m_patch_asyncio.<locals>.run\u001b[0;34m(main, debug)\u001b[0m\n\u001b[1;32m     28\u001b[0m task \u001b[38;5;241m=\u001b[39m asyncio\u001b[38;5;241m.\u001b[39mensure_future(main)\n\u001b[1;32m     29\u001b[0m \u001b[38;5;28;01mtry\u001b[39;00m:\n\u001b[0;32m---> 30\u001b[0m     \u001b[38;5;28;01mreturn\u001b[39;00m \u001b[43mloop\u001b[49m\u001b[38;5;241;43m.\u001b[39;49m\u001b[43mrun_until_complete\u001b[49m\u001b[43m(\u001b[49m\u001b[43mtask\u001b[49m\u001b[43m)\u001b[49m\n\u001b[1;32m     31\u001b[0m \u001b[38;5;28;01mfinally\u001b[39;00m:\n\u001b[1;32m     32\u001b[0m     \u001b[38;5;28;01mif\u001b[39;00m \u001b[38;5;129;01mnot\u001b[39;00m task\u001b[38;5;241m.\u001b[39mdone():\n",
      "File \u001b[0;32m~/miniconda3/envs/solana-py-test/lib/python3.9/site-packages/nest_asyncio.py:92\u001b[0m, in \u001b[0;36m_patch_loop.<locals>.run_until_complete\u001b[0;34m(self, future)\u001b[0m\n\u001b[1;32m     90\u001b[0m     f\u001b[38;5;241m.\u001b[39m_log_destroy_pending \u001b[38;5;241m=\u001b[39m \u001b[38;5;28;01mFalse\u001b[39;00m\n\u001b[1;32m     91\u001b[0m \u001b[38;5;28;01mwhile\u001b[39;00m \u001b[38;5;129;01mnot\u001b[39;00m f\u001b[38;5;241m.\u001b[39mdone():\n\u001b[0;32m---> 92\u001b[0m     \u001b[38;5;28;43mself\u001b[39;49m\u001b[38;5;241;43m.\u001b[39;49m\u001b[43m_run_once\u001b[49m\u001b[43m(\u001b[49m\u001b[43m)\u001b[49m\n\u001b[1;32m     93\u001b[0m     \u001b[38;5;28;01mif\u001b[39;00m \u001b[38;5;28mself\u001b[39m\u001b[38;5;241m.\u001b[39m_stopping:\n\u001b[1;32m     94\u001b[0m         \u001b[38;5;28;01mbreak\u001b[39;00m\n",
      "File \u001b[0;32m~/miniconda3/envs/solana-py-test/lib/python3.9/site-packages/nest_asyncio.py:115\u001b[0m, in \u001b[0;36m_patch_loop.<locals>._run_once\u001b[0;34m(self)\u001b[0m\n\u001b[1;32m    108\u001b[0m     heappop(scheduled)\n\u001b[1;32m    110\u001b[0m timeout \u001b[38;5;241m=\u001b[39m (\n\u001b[1;32m    111\u001b[0m     \u001b[38;5;241m0\u001b[39m \u001b[38;5;28;01mif\u001b[39;00m ready \u001b[38;5;129;01mor\u001b[39;00m \u001b[38;5;28mself\u001b[39m\u001b[38;5;241m.\u001b[39m_stopping\n\u001b[1;32m    112\u001b[0m     \u001b[38;5;28;01melse\u001b[39;00m \u001b[38;5;28mmin\u001b[39m(\u001b[38;5;28mmax\u001b[39m(\n\u001b[1;32m    113\u001b[0m         scheduled[\u001b[38;5;241m0\u001b[39m]\u001b[38;5;241m.\u001b[39m_when \u001b[38;5;241m-\u001b[39m \u001b[38;5;28mself\u001b[39m\u001b[38;5;241m.\u001b[39mtime(), \u001b[38;5;241m0\u001b[39m), \u001b[38;5;241m86400\u001b[39m) \u001b[38;5;28;01mif\u001b[39;00m scheduled\n\u001b[1;32m    114\u001b[0m     \u001b[38;5;28;01melse\u001b[39;00m \u001b[38;5;28;01mNone\u001b[39;00m)\n\u001b[0;32m--> 115\u001b[0m event_list \u001b[38;5;241m=\u001b[39m \u001b[38;5;28;43mself\u001b[39;49m\u001b[38;5;241;43m.\u001b[39;49m\u001b[43m_selector\u001b[49m\u001b[38;5;241;43m.\u001b[39;49m\u001b[43mselect\u001b[49m\u001b[43m(\u001b[49m\u001b[43mtimeout\u001b[49m\u001b[43m)\u001b[49m\n\u001b[1;32m    116\u001b[0m \u001b[38;5;28mself\u001b[39m\u001b[38;5;241m.\u001b[39m_process_events(event_list)\n\u001b[1;32m    118\u001b[0m end_time \u001b[38;5;241m=\u001b[39m \u001b[38;5;28mself\u001b[39m\u001b[38;5;241m.\u001b[39mtime() \u001b[38;5;241m+\u001b[39m \u001b[38;5;28mself\u001b[39m\u001b[38;5;241m.\u001b[39m_clock_resolution\n",
      "File \u001b[0;32m~/miniconda3/envs/solana-py-test/lib/python3.9/selectors.py:562\u001b[0m, in \u001b[0;36mKqueueSelector.select\u001b[0;34m(self, timeout)\u001b[0m\n\u001b[1;32m    560\u001b[0m ready \u001b[38;5;241m=\u001b[39m []\n\u001b[1;32m    561\u001b[0m \u001b[38;5;28;01mtry\u001b[39;00m:\n\u001b[0;32m--> 562\u001b[0m     kev_list \u001b[38;5;241m=\u001b[39m \u001b[38;5;28;43mself\u001b[39;49m\u001b[38;5;241;43m.\u001b[39;49m\u001b[43m_selector\u001b[49m\u001b[38;5;241;43m.\u001b[39;49m\u001b[43mcontrol\u001b[49m\u001b[43m(\u001b[49m\u001b[38;5;28;43;01mNone\u001b[39;49;00m\u001b[43m,\u001b[49m\u001b[43m \u001b[49m\u001b[43mmax_ev\u001b[49m\u001b[43m,\u001b[49m\u001b[43m \u001b[49m\u001b[43mtimeout\u001b[49m\u001b[43m)\u001b[49m\n\u001b[1;32m    563\u001b[0m \u001b[38;5;28;01mexcept\u001b[39;00m \u001b[38;5;167;01mInterruptedError\u001b[39;00m:\n\u001b[1;32m    564\u001b[0m     \u001b[38;5;28;01mreturn\u001b[39;00m ready\n",
      "\u001b[0;31mKeyboardInterrupt\u001b[0m: "
     ]
    }
   ],
   "source": [
    "asyncio.run(retrieve_block_transactions(mainnet_url))"
   ]
  },
  {
   "cell_type": "code",
   "execution_count": 16,
   "metadata": {},
   "outputs": [
    {
     "name": "stdout",
     "output_type": "stream",
     "text": [
      "246397880\n",
      "246397880\n",
      "246397881\n",
      "246397882\n"
     ]
    },
    {
     "ename": "KeyboardInterrupt",
     "evalue": "",
     "output_type": "error",
     "traceback": [
      "\u001b[0;31m---------------------------------------------------------------------------\u001b[0m",
      "\u001b[0;31mKeyboardInterrupt\u001b[0m                         Traceback (most recent call last)",
      "Cell \u001b[0;32mIn[16], line 1\u001b[0m\n\u001b[0;32m----> 1\u001b[0m \u001b[43masyncio\u001b[49m\u001b[38;5;241;43m.\u001b[39;49m\u001b[43mrun\u001b[49m\u001b[43m(\u001b[49m\u001b[43mstream_data\u001b[49m\u001b[43m(\u001b[49m\u001b[43mmainnet_url\u001b[49m\u001b[43m)\u001b[49m\u001b[43m)\u001b[49m\n",
      "File \u001b[0;32m~/miniconda3/envs/solana-py-test/lib/python3.9/site-packages/nest_asyncio.py:30\u001b[0m, in \u001b[0;36m_patch_asyncio.<locals>.run\u001b[0;34m(main, debug)\u001b[0m\n\u001b[1;32m     28\u001b[0m task \u001b[38;5;241m=\u001b[39m asyncio\u001b[38;5;241m.\u001b[39mensure_future(main)\n\u001b[1;32m     29\u001b[0m \u001b[38;5;28;01mtry\u001b[39;00m:\n\u001b[0;32m---> 30\u001b[0m     \u001b[38;5;28;01mreturn\u001b[39;00m \u001b[43mloop\u001b[49m\u001b[38;5;241;43m.\u001b[39;49m\u001b[43mrun_until_complete\u001b[49m\u001b[43m(\u001b[49m\u001b[43mtask\u001b[49m\u001b[43m)\u001b[49m\n\u001b[1;32m     31\u001b[0m \u001b[38;5;28;01mfinally\u001b[39;00m:\n\u001b[1;32m     32\u001b[0m     \u001b[38;5;28;01mif\u001b[39;00m \u001b[38;5;129;01mnot\u001b[39;00m task\u001b[38;5;241m.\u001b[39mdone():\n",
      "File \u001b[0;32m~/miniconda3/envs/solana-py-test/lib/python3.9/site-packages/nest_asyncio.py:92\u001b[0m, in \u001b[0;36m_patch_loop.<locals>.run_until_complete\u001b[0;34m(self, future)\u001b[0m\n\u001b[1;32m     90\u001b[0m     f\u001b[38;5;241m.\u001b[39m_log_destroy_pending \u001b[38;5;241m=\u001b[39m \u001b[38;5;28;01mFalse\u001b[39;00m\n\u001b[1;32m     91\u001b[0m \u001b[38;5;28;01mwhile\u001b[39;00m \u001b[38;5;129;01mnot\u001b[39;00m f\u001b[38;5;241m.\u001b[39mdone():\n\u001b[0;32m---> 92\u001b[0m     \u001b[38;5;28;43mself\u001b[39;49m\u001b[38;5;241;43m.\u001b[39;49m\u001b[43m_run_once\u001b[49m\u001b[43m(\u001b[49m\u001b[43m)\u001b[49m\n\u001b[1;32m     93\u001b[0m     \u001b[38;5;28;01mif\u001b[39;00m \u001b[38;5;28mself\u001b[39m\u001b[38;5;241m.\u001b[39m_stopping:\n\u001b[1;32m     94\u001b[0m         \u001b[38;5;28;01mbreak\u001b[39;00m\n",
      "File \u001b[0;32m~/miniconda3/envs/solana-py-test/lib/python3.9/site-packages/nest_asyncio.py:115\u001b[0m, in \u001b[0;36m_patch_loop.<locals>._run_once\u001b[0;34m(self)\u001b[0m\n\u001b[1;32m    108\u001b[0m     heappop(scheduled)\n\u001b[1;32m    110\u001b[0m timeout \u001b[38;5;241m=\u001b[39m (\n\u001b[1;32m    111\u001b[0m     \u001b[38;5;241m0\u001b[39m \u001b[38;5;28;01mif\u001b[39;00m ready \u001b[38;5;129;01mor\u001b[39;00m \u001b[38;5;28mself\u001b[39m\u001b[38;5;241m.\u001b[39m_stopping\n\u001b[1;32m    112\u001b[0m     \u001b[38;5;28;01melse\u001b[39;00m \u001b[38;5;28mmin\u001b[39m(\u001b[38;5;28mmax\u001b[39m(\n\u001b[1;32m    113\u001b[0m         scheduled[\u001b[38;5;241m0\u001b[39m]\u001b[38;5;241m.\u001b[39m_when \u001b[38;5;241m-\u001b[39m \u001b[38;5;28mself\u001b[39m\u001b[38;5;241m.\u001b[39mtime(), \u001b[38;5;241m0\u001b[39m), \u001b[38;5;241m86400\u001b[39m) \u001b[38;5;28;01mif\u001b[39;00m scheduled\n\u001b[1;32m    114\u001b[0m     \u001b[38;5;28;01melse\u001b[39;00m \u001b[38;5;28;01mNone\u001b[39;00m)\n\u001b[0;32m--> 115\u001b[0m event_list \u001b[38;5;241m=\u001b[39m \u001b[38;5;28;43mself\u001b[39;49m\u001b[38;5;241;43m.\u001b[39;49m\u001b[43m_selector\u001b[49m\u001b[38;5;241;43m.\u001b[39;49m\u001b[43mselect\u001b[49m\u001b[43m(\u001b[49m\u001b[43mtimeout\u001b[49m\u001b[43m)\u001b[49m\n\u001b[1;32m    116\u001b[0m \u001b[38;5;28mself\u001b[39m\u001b[38;5;241m.\u001b[39m_process_events(event_list)\n\u001b[1;32m    118\u001b[0m end_time \u001b[38;5;241m=\u001b[39m \u001b[38;5;28mself\u001b[39m\u001b[38;5;241m.\u001b[39mtime() \u001b[38;5;241m+\u001b[39m \u001b[38;5;28mself\u001b[39m\u001b[38;5;241m.\u001b[39m_clock_resolution\n",
      "File \u001b[0;32m~/miniconda3/envs/solana-py-test/lib/python3.9/selectors.py:562\u001b[0m, in \u001b[0;36mKqueueSelector.select\u001b[0;34m(self, timeout)\u001b[0m\n\u001b[1;32m    560\u001b[0m ready \u001b[38;5;241m=\u001b[39m []\n\u001b[1;32m    561\u001b[0m \u001b[38;5;28;01mtry\u001b[39;00m:\n\u001b[0;32m--> 562\u001b[0m     kev_list \u001b[38;5;241m=\u001b[39m \u001b[38;5;28;43mself\u001b[39;49m\u001b[38;5;241;43m.\u001b[39;49m\u001b[43m_selector\u001b[49m\u001b[38;5;241;43m.\u001b[39;49m\u001b[43mcontrol\u001b[49m\u001b[43m(\u001b[49m\u001b[38;5;28;43;01mNone\u001b[39;49;00m\u001b[43m,\u001b[49m\u001b[43m \u001b[49m\u001b[43mmax_ev\u001b[49m\u001b[43m,\u001b[49m\u001b[43m \u001b[49m\u001b[43mtimeout\u001b[49m\u001b[43m)\u001b[49m\n\u001b[1;32m    563\u001b[0m \u001b[38;5;28;01mexcept\u001b[39;00m \u001b[38;5;167;01mInterruptedError\u001b[39;00m:\n\u001b[1;32m    564\u001b[0m     \u001b[38;5;28;01mreturn\u001b[39;00m ready\n",
      "\u001b[0;31mKeyboardInterrupt\u001b[0m: "
     ]
    }
   ],
   "source": [
    "asyncio.run(retrieve_block_transactions(mainnet_url))\n"
   ]
  },
  {
   "cell_type": "code",
   "execution_count": 8,
   "metadata": {},
   "outputs": [],
   "source": [
    "from solana.rpc.api import Client\n",
    "from solders.signature import Signature\n",
    "solana_client = Client(mainnet_url)\n",
    "sig = Signature.from_string(\"5Fg1Ft6ujL6U1JkptxU8huZGaUxZKCaNncbp7Tf8SJ7hQ7Yej763JUGZzoMjeLzmF1JC9CY69hf4jmu3WBK3ZMX8\")\n",
    "trans = solana_client.get_transaction(sig, \"jsonParsed\", max_supported_transaction_version=0)"
   ]
  },
  {
   "cell_type": "code",
   "execution_count": 9,
   "metadata": {},
   "outputs": [],
   "source": [
    "transaction = json.loads(trans.to_json())"
   ]
  },
  {
   "cell_type": "code",
   "execution_count": 13,
   "metadata": {},
   "outputs": [
    {
     "name": "stdout",
     "output_type": "stream",
     "text": [
      "Transaction type is valid\n",
      "Token address is valid\n",
      "{'source_amount': '100000000', 'destination_amount': '1042089809', 'source_account': '6oHNHuPVeqKeCYXuizwRQdvS7yU5HMw3ug4hQX3vAAs', 'destination_account': 'BqjtchQuxAYHQyQhc2Yfj4oujFMSDLVd2woL2HX6tU9H', 'block_time': 1707183472, 'transaction_fees': 5000}\n"
     ]
    }
   ],
   "source": [
    "print(retrieve_transaction_details(transaction))"
   ]
  },
  {
   "cell_type": "code",
   "execution_count": 52,
   "metadata": {},
   "outputs": [],
   "source": [
    "x =  {'source_amount': '100000000', 'destination_amount': '1042089809', 'source_account': '6oHNHuPVeqKeCYXuizwRQdvS7yU5HMw3ug4hQX3vAAs', 'destination_account': 'BqjtchQuxAYHQyQhc2Yfj4oujFMSDLVd2woL2HX6tU9H', 'block_time': 1707183472, 'transaction_fees': 5000}"
   ]
  },
  {
   "cell_type": "code",
   "execution_count": 50,
   "metadata": {},
   "outputs": [],
   "source": [
    "x = None"
   ]
  },
  {
   "cell_type": "code",
   "execution_count": 51,
   "metadata": {},
   "outputs": [],
   "source": [
    "x"
   ]
  }
 ],
 "metadata": {
  "kernelspec": {
   "display_name": "solana-py-test",
   "language": "python",
   "name": "python3"
  },
  "language_info": {
   "codemirror_mode": {
    "name": "ipython",
    "version": 3
   },
   "file_extension": ".py",
   "mimetype": "text/x-python",
   "name": "python",
   "nbconvert_exporter": "python",
   "pygments_lexer": "ipython3",
   "version": "3.9.18"
  }
 },
 "nbformat": 4,
 "nbformat_minor": 2
}
