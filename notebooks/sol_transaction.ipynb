{
 "cells": [
  {
   "cell_type": "code",
   "execution_count": 1,
   "metadata": {},
   "outputs": [],
   "source": [
    "import asyncio\n",
    "import solana\n",
    "import json\n",
    "from solana.rpc.async_api import AsyncClient\n",
    "from solana.exceptions import SolanaRpcException, SolanaExceptionBase\n",
    "import nest_asyncio\n",
    "#use logger in script instead of print"
   ]
  },
  {
   "cell_type": "code",
   "execution_count": 2,
   "metadata": {},
   "outputs": [],
   "source": [
    "nest_asyncio.apply() # This is needed to run the async loop in Jupyter"
   ]
  },
  {
   "cell_type": "code",
   "execution_count": 3,
   "metadata": {},
   "outputs": [],
   "source": [
    "mainnet_url = \"https://api.mainnet-beta.solana.com\""
   ]
  },
  {
   "cell_type": "code",
   "execution_count": 4,
   "metadata": {},
   "outputs": [],
   "source": [
    "def check_transaction_program(transaction) -> bool:\n",
    "    \"\"\"\n",
    "    Verify that the first and last transaction programs are spl-token\n",
    "    \"\"\"\n",
    "    try:\n",
    "        if \"program\" in transaction[\"result\"][\"meta\"][\"innerInstructions\"][0][\"instructions\"][0].keys():\n",
    "            first_transaction_program = transaction[\"result\"][\"meta\"][\"innerInstructions\"][0][\"instructions\"][0][\"program\"]\n",
    "            last_transaction_program = transaction[\"result\"][\"meta\"][\"innerInstructions\"][0][\"instructions\"][-1][\"program\"]\n",
    "        elif \"program\" in transaction[\"result\"][\"meta\"][\"innerInstructions\"][0][\"instructions\"][1].keys():\n",
    "            first_transaction_program = transaction[\"result\"][\"meta\"][\"innerInstructions\"][0][\"instructions\"][1][\"program\"]\n",
    "            last_transaction_program = transaction[\"result\"][\"meta\"][\"innerInstructions\"][0][\"instructions\"][-1][\"program\"]\n",
    "    except:\n",
    "        first_transaction_program = None\n",
    "        last_transaction_program = None\n",
    "    \n",
    "    if first_transaction_program != \"spl-token\":\n",
    "        return False\n",
    "    \n",
    "    if last_transaction_program != \"spl-token\":\n",
    "        return False\n",
    "    \n",
    "    return True\n",
    "\n",
    "def check_transaction_type(transaction) -> bool:\n",
    "    \"\"\"\n",
    "    Verify that the first and last transaction types are transfer\n",
    "\n",
    "    \"\"\"\n",
    "    try:\n",
    "        if \"program\" in transaction[\"result\"][\"meta\"][\"innerInstructions\"][0][\"instructions\"][0].keys():\n",
    "            first_transaction_type = transaction[\"result\"][\"meta\"][\"innerInstructions\"][0][\"instructions\"][0][\"parsed\"][\"type\"]\n",
    "            second_transaction_type = transaction[\"result\"][\"meta\"][\"innerInstructions\"][0][\"instructions\"][-1][\"parsed\"][\"type\"]\n",
    "        elif \"program\" in transaction[\"result\"][\"meta\"][\"innerInstructions\"][0][\"instructions\"][1].keys():\n",
    "            first_transaction_type = transaction[\"result\"][\"meta\"][\"innerInstructions\"][0][\"instructions\"][1][\"parsed\"][\"type\"]\n",
    "            second_transaction_type = transaction[\"result\"][\"meta\"][\"innerInstructions\"][0][\"instructions\"][-1][\"parsed\"][\"type\"]\n",
    "    except:\n",
    "        first_transaction_type = None\n",
    "        second_transaction_type = None\n",
    "\n",
    "    if first_transaction_type != \"transfer\":\n",
    "        return False\n",
    "    \n",
    "    if second_transaction_type != \"transfer\":\n",
    "        return False\n",
    "   \n",
    "    return True\n",
    "\n",
    "def check_token_address(transaction) -> bool:\n",
    "    \"\"\"\n",
    "    Verify that the token address source is USDC and the token address destination is wrapped solana\n",
    "    \n",
    "    \"\"\"\n",
    "    usdc_token_address = \"EPjFWdd5AufqSSqeM2qN1xzybapC8G4wEGGkZwyTDt1v\"\n",
    "    wrapped_btc = \"9n4nbM75f5Ui33ZbPYXn59EwSgE8CGsHtAeTH5YFeJ9E\"\n",
    "    wrapped_solana = \"So11111111111111111111111111111111111111112\"\n",
    "    \n",
    "    try:\n",
    "        token_address_source = transaction[\"result\"][\"meta\"][\"preTokenBalances\"][0][\"mint\"]\n",
    "        token_address_destination = transaction[\"result\"][\"meta\"][\"preTokenBalances\"][-1][\"mint\"]\n",
    "    except:\n",
    "        token_address_source = None\n",
    "        token_address_destination = None\n",
    "    \n",
    "    if ((token_address_source != usdc_token_address) or (token_address_source != wrapped_btc)) and ((token_address_source != wrapped_solana)):\n",
    "        return False\n",
    "    \n",
    "    if (token_address_destination != wrapped_solana) and ((token_address_destination != usdc_token_address) or (token_address_destination != wrapped_btc)):\n",
    "        return False\n",
    "    \n",
    "    return True\n",
    "\n",
    "def check_error_status(transaction) -> bool:\n",
    "    \"\"\"\n",
    "    Verify that the error and status are None\n",
    "    \n",
    "    \"\"\"\n",
    "\n",
    "    try:\n",
    "        error = transaction[\"result\"][\"meta\"][\"status\"][\"Ok\"]\n",
    "        status = transaction[\"result\"][\"meta\"][\"err\"]\n",
    "    except:\n",
    "        error = None\n",
    "        status = None\n",
    "   \n",
    "    \n",
    "    if error is not None:\n",
    "        return False\n",
    "    \n",
    "    if status is not None:\n",
    "        return False\n",
    "   \n",
    "    return True"
   ]
  },
  {
   "cell_type": "code",
   "execution_count": 5,
   "metadata": {},
   "outputs": [],
   "source": [
    "async def fetch_block(url):\n",
    "    async with AsyncClient(url) as client:\n",
    "        latest_blockhash = await client.get_latest_blockhash()\n",
    "        slot = json.loads((latest_blockhash).to_json())[\"result\"][\"context\"][\"slot\"]\n",
    "    return slot # True\n",
    "        \n"
   ]
  },
  {
   "cell_type": "code",
   "execution_count": 6,
   "metadata": {},
   "outputs": [],
   "source": [
    "async def stream_data(url):\n",
    "    while True:\n",
    "        data = await fetch_block(url)\n",
    "        if data is not None:\n",
    "            # print(data)\n",
    "            return data  # Process or handle the data as needed\n",
    "\n",
    "    await asyncio.sleep(1)\n"
   ]
  },
  {
   "cell_type": "code",
   "execution_count": 7,
   "metadata": {},
   "outputs": [],
   "source": [
    "def retrieve_transaction_details(transaction):\n",
    "    if check_token_address(transaction):\n",
    "\n",
    "        inner_instructions = transaction[\"result\"][\"meta\"][\"innerInstructions\"]\n",
    "        try:\n",
    "            first_instruction = inner_instructions[0][\"instructions\"][0][\"parsed\"][\"info\"]\n",
    "        except:\n",
    "            first_instruction = inner_instructions[0][\"instructions\"][1][\"parsed\"][\"info\"]\n",
    "    \n",
    "        last_instruction = inner_instructions[0][\"instructions\"][-1][\"parsed\"][\"info\"]\n",
    "\n",
    "        source_amount = first_instruction[\"amount\"]\n",
    "        destination_amount = last_instruction[\"amount\"]\n",
    "        source_account = first_instruction[\"source\"]\n",
    "        destination_account = last_instruction[\"destination\"]\n",
    "        block_time = transaction[\"result\"][\"blockTime\"]\n",
    "        transaction_fees = transaction[\"result\"][\"meta\"][\"fee\"]\n",
    "        signature = transaction[\"transaction\"][\"signatures\"][0]\n",
    "\n",
    "        send = {\n",
    "            \"source_amount\": source_amount, \"destination_amount\": destination_amount, \n",
    "            \"source_account\": source_account, \"destination_account\": destination_account, \n",
    "            \"block_time\": block_time, \"transaction_fees\": transaction_fees, \"signature\": signature\n",
    "            }\n",
    "\n",
    "        return send"
   ]
  },
  {
   "cell_type": "code",
   "execution_count": null,
   "metadata": {},
   "outputs": [],
   "source": []
  },
  {
   "cell_type": "code",
   "execution_count": 8,
   "metadata": {},
   "outputs": [],
   "source": [
    "async def retrieve_block_transactions(url):\n",
    "    while True:\n",
    "        try:\n",
    "            async with AsyncClient(url) as client:\n",
    "                block_number = await stream_data(url)\n",
    "                blk_transaction = await client.get_block(block_number, \"jsonParsed\", max_supported_transaction_version=0)\n",
    "                return blk_transaction\n",
    "        except:\n",
    "            pass"
   ]
  },
  {
   "cell_type": "code",
   "execution_count": 9,
   "metadata": {},
   "outputs": [],
   "source": [
    "async def main():\n",
    "    while True:\n",
    "        transactions = await retrieve_block_transactions(mainnet_url)\n",
    "        transactions = json.loads(transactions.to_json())\n",
    "        for transaction in transactions[\"result\"][\"transactions\"]:\n",
    "            data = retrieve_transaction_details(transaction)\n",
    "            if data is not None:\n",
    "                print(data)\n",
    "            "
   ]
  },
  {
   "cell_type": "code",
   "execution_count": 12,
   "metadata": {},
   "outputs": [],
   "source": [
    "asyncio.run(main())\n",
    "# asyncio.run(retrieve_block_transactions(mainnet_url))"
   ]
  },
  {
   "cell_type": "code",
   "execution_count": 33,
   "metadata": {},
   "outputs": [],
   "source": [
    "# from solana.rpc.api import Client\n",
    "# solana_client = Client(\"https://docs-demo.solana-mainnet.quiknode.pro/\")\n",
    "# x = json.loads((solana_client.get_latest_blockhash()).to_json())"
   ]
  },
  {
   "cell_type": "code",
   "execution_count": 37,
   "metadata": {},
   "outputs": [
    {
     "data": {
      "text/plain": [
       "246978575"
      ]
     },
     "execution_count": 37,
     "metadata": {},
     "output_type": "execute_result"
    }
   ],
   "source": [
    "# x[\"result\"][\"context\"][\"slot\"]"
   ]
  },
  {
   "cell_type": "code",
   "execution_count": null,
   "metadata": {},
   "outputs": [],
   "source": [
    "# from solana.rpc.api import Client\n",
    "# from solders.signature import Signature\n",
    "# solana_client = Client(mainnet_url)\n",
    "# sig = Signature.from_string(\"5Fg1Ft6ujL6U1JkptxU8huZGaUxZKCaNncbp7Tf8SJ7hQ7Yej763JUGZzoMjeLzmF1JC9CY69hf4jmu3WBK3ZMX8\")\n",
    "# trans = solana_client.get_transaction(sig, \"jsonParsed\", max_supported_transaction_version=0)"
   ]
  },
  {
   "cell_type": "code",
   "execution_count": null,
   "metadata": {},
   "outputs": [],
   "source": [
    "# transaction = json.loads(trans.to_json())"
   ]
  },
  {
   "cell_type": "code",
   "execution_count": null,
   "metadata": {},
   "outputs": [],
   "source": [
    "# print(retrieve_transaction_details(transaction))"
   ]
  },
  {
   "cell_type": "code",
   "execution_count": null,
   "metadata": {},
   "outputs": [],
   "source": [
    "# x =  {'source_amount': '100000000', 'destination_amount': '1042089809', 'source_account': '6oHNHuPVeqKeCYXuizwRQdvS7yU5HMw3ug4hQX3vAAs', 'destination_account': 'BqjtchQuxAYHQyQhc2Yfj4oujFMSDLVd2woL2HX6tU9H', 'block_time': 1707183472, 'transaction_fees': 5000}"
   ]
  }
 ],
 "metadata": {
  "kernelspec": {
   "display_name": "solana-py-test",
   "language": "python",
   "name": "python3"
  },
  "language_info": {
   "codemirror_mode": {
    "name": "ipython",
    "version": 3
   },
   "file_extension": ".py",
   "mimetype": "text/x-python",
   "name": "python",
   "nbconvert_exporter": "python",
   "pygments_lexer": "ipython3",
   "version": "3.9.18"
  }
 },
 "nbformat": 4,
 "nbformat_minor": 2
}
