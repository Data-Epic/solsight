{
 "cells": [
  {
   "cell_type": "code",
   "execution_count": 1,
   "metadata": {},
   "outputs": [],
   "source": [
    "import asyncio\n",
    "import solana\n",
    "import json\n",
    "from solana.rpc.async_api import AsyncClient\n",
    "from solana.exceptions import SolanaRpcException, SolanaExceptionBase\n",
    "import nest_asyncio\n",
    "#use logger in script instead of print"
   ]
  },
  {
   "cell_type": "code",
   "execution_count": 2,
   "metadata": {},
   "outputs": [],
   "source": [
    "nest_asyncio.apply() # This is needed to run the async loop in Jupyter"
   ]
  },
  {
   "cell_type": "code",
   "execution_count": 3,
   "metadata": {},
   "outputs": [],
   "source": [
    "mainnet_url = \"https://api.mainnet-beta.solana.com\""
   ]
  },
  {
   "cell_type": "code",
   "execution_count": 4,
   "metadata": {},
   "outputs": [],
   "source": [
    "def check_transaction_program(transaction) -> bool:\n",
    "    \"\"\"\n",
    "    Verify that the first and last transaction programs are spl-token\n",
    "    \"\"\"\n",
    "    try:\n",
    "        if \"program\" in transaction[\"result\"][\"meta\"][\"innerInstructions\"][0][\"instructions\"][0].keys():\n",
    "            first_transaction_program = transaction[\"result\"][\"meta\"][\"innerInstructions\"][0][\"instructions\"][0][\"program\"]\n",
    "            last_transaction_program = transaction[\"result\"][\"meta\"][\"innerInstructions\"][0][\"instructions\"][-1][\"program\"]\n",
    "        elif \"program\" in transaction[\"result\"][\"meta\"][\"innerInstructions\"][0][\"instructions\"][1].keys():\n",
    "            first_transaction_program = transaction[\"result\"][\"meta\"][\"innerInstructions\"][0][\"instructions\"][1][\"program\"]\n",
    "            last_transaction_program = transaction[\"result\"][\"meta\"][\"innerInstructions\"][0][\"instructions\"][-1][\"program\"]\n",
    "    except:\n",
    "        first_transaction_program = None\n",
    "        last_transaction_program = None\n",
    "    \n",
    "    if first_transaction_program != \"spl-token\":\n",
    "        return False\n",
    "    \n",
    "    if last_transaction_program != \"spl-token\":\n",
    "        return False\n",
    "    \n",
    "    return True\n",
    "\n",
    "def check_transaction_type(transaction) -> bool:\n",
    "    \"\"\"\n",
    "    Verify that the first and last transaction types are transfer\n",
    "\n",
    "    \"\"\"\n",
    "    try:\n",
    "        if \"program\" in transaction[\"meta\"][\"innerInstructions\"][0][\"instructions\"][0].keys():\n",
    "            first_transaction_type = transaction[\"meta\"][\"innerInstructions\"][0][\"instructions\"][0][\"parsed\"][\"type\"]\n",
    "            second_transaction_type = transaction[\"meta\"][\"innerInstructions\"][0][\"instructions\"][-1][\"parsed\"][\"type\"]\n",
    "        elif \"program\" in transaction[\"meta\"][\"innerInstructions\"][0][\"instructions\"][1].keys():\n",
    "            first_transaction_type = transaction[\"meta\"][\"innerInstructions\"][0][\"instructions\"][1][\"parsed\"][\"type\"]\n",
    "            second_transaction_type = transaction[\"meta\"][\"innerInstructions\"][0][\"instructions\"][-1][\"parsed\"][\"type\"]\n",
    "    except:\n",
    "        first_transaction_type = None\n",
    "        second_transaction_type = None\n",
    "\n",
    "    if first_transaction_type != \"transfer\":\n",
    "        return False\n",
    "    \n",
    "    if second_transaction_type != \"transfer\":\n",
    "        return False\n",
    "   \n",
    "    return True\n",
    "\n",
    "def check_token_address(transaction) -> bool:\n",
    "    \"\"\"\n",
    "    Verify that the token address source is USDC and the token address destination is wrapped solana\n",
    "    \n",
    "    \"\"\"\n",
    "    usdc_token_address = \"EPjFWdd5AufqSSqeM2qN1xzybapC8G4wEGGkZwyTDt1v\"\n",
    "    wrapped_btc = \"9n4nbM75f5Ui33ZbPYXn59EwSgE8CGsHtAeTH5YFeJ9E\"\n",
    "    wrapped_solana = \"So11111111111111111111111111111111111111112\"\n",
    "    \n",
    "    try:\n",
    "        token_address_source = transaction[\"meta\"][\"preTokenBalances\"][0][\"mint\"]\n",
    "        token_address_destination = transaction[\"meta\"][\"preTokenBalances\"][-1][\"mint\"]\n",
    "    except:\n",
    "        token_address_source = None\n",
    "        token_address_destination = None\n",
    "    \n",
    "    if (token_address_source != usdc_token_address) and (token_address_destination != wrapped_solana):\n",
    "        return False\n",
    "    \n",
    "    # if token_address_destination != wrapped_solana:\n",
    "    #     return False\n",
    "    \n",
    "    return True\n",
    "\n",
    "def check_error_status(transaction) -> bool:\n",
    "    \"\"\"\n",
    "    Verify that the error and status are None\n",
    "    \n",
    "    \"\"\"\n",
    "\n",
    "    try:\n",
    "        error = transaction[\"result\"][\"meta\"][\"status\"][\"Ok\"]\n",
    "        status = transaction[\"result\"][\"meta\"][\"err\"]\n",
    "    except:\n",
    "        error = None\n",
    "        status = None\n",
    "   \n",
    "    \n",
    "    if error is not None:\n",
    "        return False\n",
    "    \n",
    "    if status is not None:\n",
    "        return False\n",
    "   \n",
    "    return True"
   ]
  },
  {
   "cell_type": "code",
   "execution_count": 5,
   "metadata": {},
   "outputs": [],
   "source": [
    "async def fetch_block(url):\n",
    "    async with AsyncClient(url) as client:\n",
    "        latest_blockhash = await client.get_latest_blockhash()\n",
    "        slot = json.loads((latest_blockhash).to_json())[\"result\"][\"context\"][\"slot\"]\n",
    "    return slot # True\n",
    "        \n"
   ]
  },
  {
   "cell_type": "code",
   "execution_count": 6,
   "metadata": {},
   "outputs": [],
   "source": [
    "async def stream_data(url):\n",
    "    while True:\n",
    "        data = await fetch_block(url)\n",
    "        if data is not None:\n",
    "            # print(data)\n",
    "            return data  # Process or handle the data as needed\n",
    "\n",
    "    await asyncio.sleep(1)\n"
   ]
  },
  {
   "cell_type": "code",
   "execution_count": 55,
   "metadata": {},
   "outputs": [],
   "source": [
    "def retrieve_transaction_details(transaction):\n",
    "    if check_token_address(transaction):\n",
    "        if len(transaction[\"meta\"][\"innerInstructions\"]) > 0:\n",
    "            inner_instructions = transaction[\"meta\"][\"innerInstructions\"]\n",
    "            if \"parsed\" in inner_instructions[0][\"instructions\"][0].keys() and \"parsed\" in inner_instructions[0][\"instructions\"][-1].keys():     \n",
    "                try:\n",
    "                    first_instruction = inner_instructions[0][\"instructions\"][0][\"parsed\"][\"info\"]\n",
    "                    last_instruction = inner_instructions[0][\"instructions\"][-1][\"parsed\"][\"info\"]\n",
    "                except:\n",
    "                    first_instruction = inner_instructions[0][\"instructions\"][1][\"parsed\"][\"info\"]\n",
    "                    last_instruction = inner_instructions[0][\"instructions\"][-1][\"parsed\"][\"info\"]\n",
    "\n",
    "                if (\"amount\" in first_instruction.keys()) and (\"amount\" in last_instruction.keys()):\n",
    "                    source_amount = first_instruction[\"amount\"]\n",
    "                    destination_amount = last_instruction[\"amount\"]\n",
    "                    source_account = first_instruction[\"source\"]\n",
    "                    destination_account = last_instruction[\"destination\"]\n",
    "                    # block_time = transaction[\"result\"][\"blockTime\"]\n",
    "                    # transaction_fees = transaction[\"result\"][\"meta\"][\"fee\"]\n",
    "                    signature = transaction[\"transaction\"][\"signatures\"][0]\n",
    "\n",
    "                    send = {\n",
    "                        \"source_amount\": source_amount, \"destination_amount\": destination_amount, \n",
    "                        \"source_account\": source_account, \"destination_account\": destination_account, \n",
    "                        # \"block_time\": block_time, \"transaction_fees\": transaction_fees, \n",
    "                        \"signature\": signature\n",
    "                        }\n",
    "            \n",
    "\n",
    "                    return send"
   ]
  },
  {
   "cell_type": "code",
   "execution_count": 37,
   "metadata": {},
   "outputs": [],
   "source": [
    "async def retrieve_block_transactions(url):\n",
    "    while True:\n",
    "        try:\n",
    "            async with AsyncClient(url) as client:\n",
    "                block_number = await stream_data(url)\n",
    "                blk_transaction = await client.get_block(block_number, \"jsonParsed\", max_supported_transaction_version=0)\n",
    "                return blk_transaction\n",
    "        except:\n",
    "            pass"
   ]
  },
  {
   "cell_type": "code",
   "execution_count": 38,
   "metadata": {},
   "outputs": [],
   "source": [
    "async def main():\n",
    "    while True:\n",
    "        transactions = await retrieve_block_transactions(mainnet_url)\n",
    "        transactions = json.loads(transactions.to_json())\n",
    "        for transaction in transactions[\"result\"][\"transactions\"]:\n",
    "            data = retrieve_transaction_details(transaction)\n",
    "            if data is not None:\n",
    "                print(data)\n",
    "            "
   ]
  },
  {
   "cell_type": "code",
   "execution_count": 56,
   "metadata": {},
   "outputs": [
    {
     "name": "stdout",
     "output_type": "stream",
     "text": [
      "{'source_amount': '108719087', 'destination_amount': '999949440', 'source_account': 'HP1di8NhtL58UwQkekZxgtyUETag4hFcppteRiyqsZi4', 'destination_account': 'AjZbu2izYi6aBMAiE8sDujfsfoAvmJQYR9dkaQJRPyd7', 'signature': '5rfhJdLh541TF85saw2ASEv65MjDhm1gtsMkBjPzrHXGDtHe8roDL8aoVYEUhCapRreyVQctUby7HoLFxXppMmZe'}\n",
      "{'source_amount': '394268884', 'destination_amount': '393931313', 'source_account': '5KSf6pjXuS6LHb36Ks1xkp1TUJoyHKdrWmvXVpJ6xjmB', 'destination_account': '3gz1BDR7A4kcp8SmiF2ARAW9hvseQ6TeQgXdgS8ZvY9N', 'signature': '5GVCx8iVP7t8bYmRjPEGzQFW3Jb4vw3dmW7gmScnf7x4p5WKz7YGUYvtpzQrFnkZehu8FtGEAeWjiSdWpRYxwBSv'}\n",
      "{'source_amount': '118000000', 'destination_amount': '1000000', 'source_account': 'H2MLDTY5ZdGzP9ou2xKBLoVGS1Ar15MqQ2R2HEYfiPBJ', 'destination_account': 'CKxTHwM9fPMRRvZmFnFoqKNd9pQR21c5Aq9bh5h9oghX', 'signature': '46uoG9r2PDtq4mx2JvosKVayjtsbZxtLZ5PmgcyAy35Tkt7NLHUQXop9wJZ2BzSKKX3WnosYR4mVWpAp59bjWGxN'}\n",
      "{'source_amount': '66666666', 'destination_amount': '66666666', 'source_account': 'G11FAMPZyShMc174TWgJmHRQmmsYbdU6MbYTJ9EbUSxi', 'destination_account': '8BGQqLngsLEBnN2hWyuBcAXBQDYQpQ9RXkYYczvbWnS8', 'signature': '25j6yRLxJnZVJQ4FfZ7RaRJjeJoTd2EHhNYLnkmYRbU3zCPYDPQkBfLssxrtfrjDajo7Y62n2F9AUexmUPx1ZxJQ'}\n",
      "{'source_amount': '2069937699', 'destination_amount': '18989432200', 'source_account': 'HP1di8NhtL58UwQkekZxgtyUETag4hFcppteRiyqsZi4', 'destination_account': 'AjZbu2izYi6aBMAiE8sDujfsfoAvmJQYR9dkaQJRPyd7', 'signature': '5NPPJjh9fJkhSzTFdmrPed15VPnKcQfDdqvcT4iKJRmdy8mr6ngcwMPjv3no7oaTczkakagVycb4V5no6aRRB7nt'}\n",
      "{'source_amount': '435832358', 'destination_amount': '3998246268', 'source_account': 'HP1di8NhtL58UwQkekZxgtyUETag4hFcppteRiyqsZi4', 'destination_account': 'AjZbu2izYi6aBMAiE8sDujfsfoAvmJQYR9dkaQJRPyd7', 'signature': 'vgy2YCBquMvggkDH5kqreVcKKCFiTTWeXy5pD4XDbTiPAEzFBnkN5BcnaenYG836QbuAZ9BMVXawWAnmm3yRdsZ'}\n",
      "{'source_amount': '30172645', 'destination_amount': '30172645', 'source_account': 'JCTpwx8RAm2hkzLEyGHbZ9Hzx7jh6GcNwHWBVk1mFWAw', 'destination_account': '8BGQqLngsLEBnN2hWyuBcAXBQDYQpQ9RXkYYczvbWnS8', 'signature': '3RSid4ub1yTcmhUjsWzN6rrN77hTFpiVJaCFBP3j4Kwjb1pmHeTHCEP1UJe4t8SgGWRKyD4F7EhqwApZ4Sc8MCQV'}\n",
      "{'source_amount': '188857000000', 'destination_amount': '1000000', 'source_account': 'H2MLDTY5ZdGzP9ou2xKBLoVGS1Ar15MqQ2R2HEYfiPBJ', 'destination_account': 'CKxTHwM9fPMRRvZmFnFoqKNd9pQR21c5Aq9bh5h9oghX', 'signature': '5PwRCVBY56M4KEcWj6XrhbNc9n2mSUjk9eJewcrfTTJf2u2UB7ZuLYExd9msjCbnPYjPkMifpD1Ppsbxw1u1i6wh'}\n",
      "{'source_amount': '25000000', 'destination_amount': '25001804', 'source_account': 'H2gbaq1b5WPjuEJwCBhoz5WzWrpkKXySNjzwDKTXiHVk', 'destination_account': 'H2gbaq1b5WPjuEJwCBhoz5WzWrpkKXySNjzwDKTXiHVk', 'signature': 'KXFfpuhJq3PKpXedWqLEkUoLmUpFxswqAB7Ti5CmJrjXyoqtU52HPxV7BUP8EXm4tkiCHnNebiQUb3ZavTGyJXp'}\n",
      "{'source_amount': '4479', 'destination_amount': '4479', 'source_account': 'EA3Qa1WUxuY2BZo6b2Dy3ZxGiK3qS5hkeSwbCzUNomBm', 'destination_account': '6cJPrfiaMuGSYauckYDkS7QbfMQ3cBPfkSnSfU7YjoKZ', 'signature': '2Dc5wcadRBnvJgjLSNDHpNaNEePQyEyQEXSsorGEBpxggjWdpCXuCqsSs1jgN1wSRSt6sHF4wEv4ENkdmE9Cd1eR'}\n",
      "{'source_amount': '83270376', 'destination_amount': '83169920', 'source_account': '49ZbSHqvwixk5kxbeWDpwmbbrGmsAzR8XCu22YKq36Rc', 'destination_account': 'Vsf9rHRwMp2UnsuBXizdPwaddoCeYxyN6EJqpYYVMQK', 'signature': '5hbQzxzF3DsRDsWPcBc3284ptAHVoCosZ1qdSuotD6c7XycmH7gyaxVUT3fxzWCixNq8wFo1yxVXNsu4cEn9SahE'}\n",
      "{'source_amount': '500000000000', 'destination_amount': '500000000000', 'source_account': '7exzsvjn46jweUp1uerS3SYMmHUdQcBgrQi2MHMv5fJV', 'destination_account': 'CKxTHwM9fPMRRvZmFnFoqKNd9pQR21c5Aq9bh5h9oghX', 'signature': 'DCLjhF2ZfLt1CZjiV3PUvMD92QVQNEfi15ivYpnbfNPtforvaZ6U8iPhPUBwNyN8Y4kiNiYWZyvKeu6XpiBpmss'}\n",
      "{'source_amount': '583455684', 'destination_amount': '583455684', 'source_account': 'DfYCNezifxAEsQbAJ1b3j6PX3JVBe8fu11KBhxsbw5d2', 'destination_account': '7ae58gcHrHQxFfNJRrT4wrwC5xAEZSoGxkxCsFab9xYf', 'signature': '5q75gLuP2ySQ8LFvyNnf2wy6E2ibBLSurBQfcF9xwiS2EpdQBUMbrPRs1sqeX9d7PV6dhRXwmiCei9zWwktCbKys'}\n",
      "{'source_amount': '203358940', 'destination_amount': '1', 'source_account': 'Ck5dPxUB1EbLTTC4W7QDdwibMaMKHCNYT8Wy88GTHa9W', 'destination_account': '6A5NHCj1yF6urc9wZNe6Bcjj4LVszQNj5DwAWG97yzMu', 'signature': '22HkJ3KejKwqaNeYfQXW1FYn7HnKa8ZjjK6naJBK9cWDrWbwu1WQK6XCuNxLvFKes5Vt8nnzmTxqA2EMFA8BXBtc'}\n"
     ]
    }
   ],
   "source": [
    "asyncio.run(main())"
   ]
  }
 ],
 "metadata": {
  "kernelspec": {
   "display_name": "solana-py-test",
   "language": "python",
   "name": "python3"
  },
  "language_info": {
   "codemirror_mode": {
    "name": "ipython",
    "version": 3
   },
   "file_extension": ".py",
   "mimetype": "text/x-python",
   "name": "python",
   "nbconvert_exporter": "python",
   "pygments_lexer": "ipython3",
   "version": "3.9.18"
  }
 },
 "nbformat": 4,
 "nbformat_minor": 2
}
