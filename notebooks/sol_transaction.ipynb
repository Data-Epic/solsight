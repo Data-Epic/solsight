{
 "cells": [
  {
   "cell_type": "code",
   "execution_count": 1,
   "metadata": {},
   "outputs": [],
   "source": [
    "import asyncio\n",
    "import solana\n",
    "import json\n",
    "from solana.rpc.async_api import AsyncClient\n",
    "from solana.exceptions import SolanaRpcException, SolanaExceptionBase\n",
    "import nest_asyncio\n",
    "#use logger in script instead of print"
   ]
  },
  {
   "cell_type": "code",
   "execution_count": 2,
   "metadata": {},
   "outputs": [],
   "source": [
    "nest_asyncio.apply() # This is needed to run the async loop in Jupyter"
   ]
  },
  {
   "cell_type": "code",
   "execution_count": 3,
   "metadata": {},
   "outputs": [],
   "source": [
    "mainnet_url = \"https://api.mainnet-beta.solana.com\""
   ]
  },
  {
   "cell_type": "code",
   "execution_count": 4,
   "metadata": {},
   "outputs": [],
   "source": [
    "def check_transaction_program(transaction) -> bool:\n",
    "    \"\"\"\n",
    "    Verify that the first and last transaction programs are spl-token\n",
    "    \"\"\"\n",
    "\n",
    "    first_transaction_program = None\n",
    "    last_transaction_program = None\n",
    "    \n",
    "    try:\n",
    "        if \"program\" in transaction[\"meta\"][\"innerInstructions\"][0][\"instructions\"][0].keys():\n",
    "            first_transaction_program = transaction[\"meta\"][\"innerInstructions\"][0][\"instructions\"][0][\"program\"]\n",
    "            last_transaction_program = transaction[\"meta\"][\"innerInstructions\"][0][\"instructions\"][-1][\"program\"]\n",
    "        elif \"program\" in transaction[\"meta\"][\"innerInstructions\"][0][\"instructions\"][1].keys():\n",
    "            first_transaction_program = transaction[\"meta\"][\"innerInstructions\"][0][\"instructions\"][1][\"program\"]\n",
    "            last_transaction_program = transaction[\"meta\"][\"innerInstructions\"][0][\"instructions\"][-1][\"program\"]\n",
    "    except:\n",
    "        pass\n",
    "        \n",
    "    if first_transaction_program != \"spl-token\":\n",
    "        return False\n",
    "    \n",
    "    if last_transaction_program != \"spl-token\":\n",
    "        return False\n",
    "        \n",
    "    return True\n",
    "\n",
    "def check_transaction_type(transaction) -> bool:\n",
    "    \"\"\"\n",
    "    Verify that the first and last transaction types are transfer\n",
    "\n",
    "    \"\"\"\n",
    "    try:\n",
    "        if \"parsed\" in transaction[\"meta\"][\"innerInstructions\"][0][\"instructions\"][0].keys():\n",
    "            first_transaction_type = transaction[\"meta\"][\"innerInstructions\"][0][\"instructions\"][0][\"parsed\"][\"type\"]\n",
    "            second_transaction_type = transaction[\"meta\"][\"innerInstructions\"][0][\"instructions\"][-1][\"parsed\"][\"type\"]\n",
    "        elif \"parsed\" in transaction[\"meta\"][\"innerInstructions\"][0][\"instructions\"][1].keys():\n",
    "            first_transaction_type = transaction[\"meta\"][\"innerInstructions\"][0][\"instructions\"][1][\"parsed\"][\"type\"]\n",
    "            second_transaction_type = transaction[\"meta\"][\"innerInstructions\"][0][\"instructions\"][-1][\"parsed\"][\"type\"]\n",
    "    except:\n",
    "        first_transaction_type = None\n",
    "        second_transaction_type = None\n",
    "\n",
    "    if first_transaction_type != \"transfer\":\n",
    "        return False\n",
    "    \n",
    "    if second_transaction_type != \"transfer\":\n",
    "        return False\n",
    "    return True\n",
    "\n",
    "def check_token_address(transaction) -> bool:\n",
    "    \"\"\"\n",
    "    Verify that the token address source is USDC and the token address destination is wrapped solana\n",
    "    \n",
    "    \"\"\"\n",
    "    usdc_token_address = \"EPjFWdd5AufqSSqeM2qN1xzybapC8G4wEGGkZwyTDt1v\"\n",
    "    wrapped_btc = \"9n4nbM75f5Ui33ZbPYXn59EwSgE8CGsHtAeTH5YFeJ9E\"\n",
    "    wrapped_solana = \"So11111111111111111111111111111111111111112\"\n",
    "    \n",
    "    token_address_source = None\n",
    "    token_address_destination = None\n",
    "\n",
    "    try:\n",
    "        token_address_source = transaction[\"meta\"][\"preTokenBalances\"][0][\"mint\"]\n",
    "        token_address_destination = transaction[\"meta\"][\"preTokenBalances\"][-1][\"mint\"]\n",
    "    except:\n",
    "        pass\n",
    "    \n",
    "    if token_address_source not in [usdc_token_address, wrapped_btc]:\n",
    "        return False\n",
    "    \n",
    "    if token_address_destination != wrapped_solana:\n",
    "        return False\n",
    "        \n",
    "    return True\n",
    "\n",
    "def check_error_status(transaction) -> bool:\n",
    "    \"\"\"\n",
    "    Verify that the error and status are None\n",
    "    \n",
    "    \"\"\"\n",
    "    error, status = \"\", \"\"\n",
    "    try:\n",
    "        error = transaction[\"meta\"][\"err\"]\n",
    "        status = transaction[\"meta\"][\"status\"][\"Ok\"]\n",
    "    except:\n",
    "        pass\n",
    "   \n",
    "    if (error is None) and (status is None):\n",
    "        return True\n",
    "\n",
    "    return False"
   ]
  },
  {
   "cell_type": "code",
   "execution_count": 5,
   "metadata": {},
   "outputs": [],
   "source": [
    "async def fetch_block(url):\n",
    "    async with AsyncClient(url) as client:\n",
    "        latest_blockhash = await client.get_latest_blockhash()\n",
    "        slot = json.loads((latest_blockhash).to_json())[\"result\"][\"context\"][\"slot\"]\n",
    "    return slot # True\n",
    "        \n"
   ]
  },
  {
   "cell_type": "code",
   "execution_count": 6,
   "metadata": {},
   "outputs": [],
   "source": [
    "async def stream_data(url):\n",
    "    while True:\n",
    "        data = await fetch_block(url)\n",
    "        if data is not None:\n",
    "            return data  # Process or handle the data as needed\n",
    "\n",
    "    await asyncio.sleep(1)\n"
   ]
  },
  {
   "cell_type": "code",
   "execution_count": 7,
   "metadata": {},
   "outputs": [],
   "source": [
    "def retrieve_transaction_details(transaction):\n",
    "    if check_token_address(transaction) and check_transaction_program(transaction) and check_transaction_type(transaction) and check_error_status(transaction):\n",
    "        if len(transaction[\"meta\"][\"innerInstructions\"]) > 0:\n",
    "            inner_instructions = transaction[\"meta\"][\"innerInstructions\"]\n",
    "            if \"parsed\" in inner_instructions[0][\"instructions\"][0].keys() and \"parsed\" in inner_instructions[0][\"instructions\"][-1].keys():     \n",
    "                try:\n",
    "                    first_instruction = inner_instructions[0][\"instructions\"][0][\"parsed\"][\"info\"]\n",
    "                    last_instruction = inner_instructions[0][\"instructions\"][-1][\"parsed\"][\"info\"]\n",
    "                except:\n",
    "                    first_instruction = inner_instructions[0][\"instructions\"][1][\"parsed\"][\"info\"]\n",
    "                    last_instruction = inner_instructions[0][\"instructions\"][-1][\"parsed\"][\"info\"]\n",
    "\n",
    "                if (\"amount\" in first_instruction.keys()) and (\"amount\" in last_instruction.keys()):\n",
    "                    source_amount = first_instruction[\"amount\"]\n",
    "                    destination_amount = last_instruction[\"amount\"]\n",
    "                    source_account = first_instruction[\"source\"]\n",
    "                    destination_account = last_instruction[\"destination\"]\n",
    "                    transaction_fees = transaction[\"meta\"][\"fee\"]\n",
    "                    signature = transaction[\"transaction\"][\"signatures\"][0]\n",
    "\n",
    "                    send = {\n",
    "                        \"source_amount\": source_amount, \"destination_amount\": destination_amount, \n",
    "                        \"source_account\": source_account, \"destination_account\": destination_account, \n",
    "                        \"transaction_fees\": transaction_fees, \"signature\": signature\n",
    "                        }\n",
    "            \n",
    "\n",
    "                    return send"
   ]
  },
  {
   "cell_type": "code",
   "execution_count": 8,
   "metadata": {},
   "outputs": [],
   "source": [
    "async def retrieve_block_transactions(url):\n",
    "    while True:\n",
    "        try:\n",
    "            async with AsyncClient(url) as client:\n",
    "                block_number = await stream_data(url)\n",
    "                blk_transaction = await client.get_block(block_number, \"jsonParsed\", max_supported_transaction_version=0)\n",
    "                return blk_transaction\n",
    "        except:\n",
    "            pass"
   ]
  },
  {
   "cell_type": "code",
   "execution_count": 9,
   "metadata": {},
   "outputs": [],
   "source": [
    "async def main():\n",
    "    while True:\n",
    "        transactions = await retrieve_block_transactions(mainnet_url)\n",
    "        transactions = json.loads(transactions.to_json())\n",
    "        for transaction in transactions[\"result\"][\"transactions\"]:\n",
    "            data = retrieve_transaction_details(transaction)\n",
    "            if data is not None:\n",
    "                data[\"block_time\"] = transactions[\"result\"][\"blockTime\"]\n",
    "                data[\"block_number\"] = transactions[\"result\"][\"parentSlot\"] + 1 # block number is parent slot + 1\n",
    "                print(data)\n",
    "            "
   ]
  },
  {
   "cell_type": "code",
   "execution_count": 10,
   "metadata": {},
   "outputs": [
    {
     "name": "stdout",
     "output_type": "stream",
     "text": [
      "{'source_amount': '30921856', 'destination_amount': '30924839', 'source_account': '1B6Ua3MNkUZLCJ7zJpdd46i8SMCrbQpw13kG74oFKbp', 'destination_account': '1B6Ua3MNkUZLCJ7zJpdd46i8SMCrbQpw13kG74oFKbp', 'transaction_fees': 5340, 'signature': '4U6njqdsNHHE1hEeQa2yFEPzJ3ZvToFKSn1zcS8n8obpMyAGWmE4aWuPiXaUTosrASQaXvFY59PnfAjbdMDwUS2t', 'block_time': 1707526191, 'block_number': 247181401}\n"
     ]
    }
   ],
   "source": [
    "asyncio.run(main())"
   ]
  }
 ],
 "metadata": {
  "kernelspec": {
   "display_name": "solana-py-test",
   "language": "python",
   "name": "python3"
  },
  "language_info": {
   "codemirror_mode": {
    "name": "ipython",
    "version": 3
   },
   "file_extension": ".py",
   "mimetype": "text/x-python",
   "name": "python",
   "nbconvert_exporter": "python",
   "pygments_lexer": "ipython3",
   "version": "3.9.18"
  }
 },
 "nbformat": 4,
 "nbformat_minor": 2
}
